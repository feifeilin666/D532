{
  "nbformat": 4,
  "nbformat_minor": 0,
  "metadata": {
    "colab": {
      "provenance": []
    },
    "kernelspec": {
      "name": "python3",
      "display_name": "Python 3"
    },
    "language_info": {
      "name": "python"
    }
  },
  "cells": [
    {
      "cell_type": "markdown",
      "source": [
        "## Stock Tracker"
      ],
      "metadata": {
        "id": "Ev4J7NGEt2Ju"
      }
    },
    {
      "cell_type": "code",
      "execution_count": 1,
      "metadata": {
        "id": "EzA1bF5kWXN0"
      },
      "outputs": [],
      "source": [
        "import sqlite3\n",
        "import pandas as pd"
      ]
    },
    {
      "cell_type": "code",
      "source": [
        "conn = sqlite3.connect('Portfolio_Tracker')"
      ],
      "metadata": {
        "id": "zTBTqY-SWkml"
      },
      "execution_count": 2,
      "outputs": []
    },
    {
      "cell_type": "code",
      "source": [
        "c = conn.cursor()"
      ],
      "metadata": {
        "id": "x4Lp9V8_W0vJ"
      },
      "execution_count": 3,
      "outputs": []
    },
    {
      "cell_type": "code",
      "source": [
        "stock_data = pd.read_csv('Stocks_Dataset.csv')\n",
        "stock_data.to_sql('stock_data_raw',conn,if_exists='replace',index=False)"
      ],
      "metadata": {
        "colab": {
          "base_uri": "https://localhost:8080/"
        },
        "id": "fZFB9FtFtztJ",
        "outputId": "3d965fd9-01ae-4480-d488-9512800d7908"
      },
      "execution_count": 21,
      "outputs": [
        {
          "output_type": "execute_result",
          "data": {
            "text/plain": [
              "33106"
            ]
          },
          "metadata": {},
          "execution_count": 21
        }
      ]
    },
    {
      "cell_type": "code",
      "source": [
        "c.execute('''create table stock (\n",
        "  ID integer primary key autoincrement not null,\n",
        "  tickersymbol varchar(10),\n",
        "  companyname varchar(100)\n",
        ")''')"
      ],
      "metadata": {
        "colab": {
          "base_uri": "https://localhost:8080/"
        },
        "id": "MQj2wrYfrTGL",
        "outputId": "874bfbe4-3ce1-4b18-9b3a-1522fb71a6af"
      },
      "execution_count": 19,
      "outputs": [
        {
          "output_type": "execute_result",
          "data": {
            "text/plain": [
              "<sqlite3.Cursor at 0x7f8616239fc0>"
            ]
          },
          "metadata": {},
          "execution_count": 19
        }
      ]
    },
    {
      "cell_type": "code",
      "source": [
        "c.execute('''insert into stock (tickersymbol,companyname)\n",
        "select distinct symbol,company from stock_data_raw\n",
        "''')"
      ],
      "metadata": {
        "colab": {
          "base_uri": "https://localhost:8080/"
        },
        "id": "0FuXwi2bvDGr",
        "outputId": "7b632d93-0a4d-4461-a219-ea4b00e9e65e"
      },
      "execution_count": 24,
      "outputs": [
        {
          "output_type": "execute_result",
          "data": {
            "text/plain": [
              "<sqlite3.Cursor at 0x7f8616239fc0>"
            ]
          },
          "metadata": {},
          "execution_count": 24
        }
      ]
    },
    {
      "cell_type": "code",
      "source": [
        "c.execute('''create table stockfact (\n",
        "  stockid integer not null,\n",
        "  date_time datetime,\n",
        "  stockprice decimal(6,2),\n",
        "  foreign key (stockid) references stock(id)\n",
        ")''')"
      ],
      "metadata": {
        "colab": {
          "base_uri": "https://localhost:8080/"
        },
        "id": "UTowM6aLrSSI",
        "outputId": "d882d244-d580-47cb-b86a-bb93511b596c"
      },
      "execution_count": 26,
      "outputs": [
        {
          "output_type": "execute_result",
          "data": {
            "text/plain": [
              "<sqlite3.Cursor at 0x7f8616239fc0>"
            ]
          },
          "metadata": {},
          "execution_count": 26
        }
      ]
    },
    {
      "cell_type": "code",
      "source": [
        "c.execute('''insert into stockfact(stockid,date_time,stockprice)\n",
        "select distinct a.id,b.date,b.close_last from stock as a left join stock_data_raw as b on a.tickersymbol=b.symbol\n",
        "''')"
      ],
      "metadata": {
        "colab": {
          "base_uri": "https://localhost:8080/"
        },
        "id": "MOMtQIBXwng2",
        "outputId": "eb2dab6f-7426-4c05-fdb4-78a31186456c"
      },
      "execution_count": 29,
      "outputs": [
        {
          "output_type": "execute_result",
          "data": {
            "text/plain": [
              "<sqlite3.Cursor at 0x7f8616239fc0>"
            ]
          },
          "metadata": {},
          "execution_count": 29
        }
      ]
    },
    {
      "cell_type": "code",
      "source": [
        "c.execute('''create table user (\n",
        "  ID integer primary key autoincrement not null,\n",
        "  FirstName char(50) not null,\n",
        "  LastName char(50) not null,\n",
        "  Email varchar(100) not null check(email like '%@%')\n",
        ")''')"
      ],
      "metadata": {
        "colab": {
          "base_uri": "https://localhost:8080/"
        },
        "id": "hqsesSLMX_UY",
        "outputId": "fef21ce2-b66f-430c-f67b-a24700a475b9"
      },
      "execution_count": 14,
      "outputs": [
        {
          "output_type": "execute_result",
          "data": {
            "text/plain": [
              "<sqlite3.Cursor at 0x7f8616239fc0>"
            ]
          },
          "metadata": {},
          "execution_count": 14
        }
      ]
    },
    {
      "cell_type": "code",
      "source": [
        "c.execute('''insert into user (FirstName,LastName,Email) values\n",
        "('Lee','Johnson','lj@yahoo.com')\n",
        "  '''\n",
        ")"
      ],
      "metadata": {
        "colab": {
          "base_uri": "https://localhost:8080/"
        },
        "id": "1OcH2WG1Y_r5",
        "outputId": "250f9219-653f-4271-f72b-2c79b18d8d0e"
      },
      "execution_count": 16,
      "outputs": [
        {
          "output_type": "execute_result",
          "data": {
            "text/plain": [
              "<sqlite3.Cursor at 0x7f8616239fc0>"
            ]
          },
          "metadata": {},
          "execution_count": 16
        }
      ]
    },
    {
      "cell_type": "code",
      "source": [
        "c.execute('''create table portfolio (\n",
        "  ID integer primary key autoincrement not null,\n",
        "  userid integer not null,\n",
        "  foreign key (userid) references user(id)\n",
        ")''')"
      ],
      "metadata": {
        "colab": {
          "base_uri": "https://localhost:8080/"
        },
        "id": "6lmIr4RSpd4e",
        "outputId": "50eff0be-c9c0-44cc-f265-028bbcd687bf"
      },
      "execution_count": 18,
      "outputs": [
        {
          "output_type": "execute_result",
          "data": {
            "text/plain": [
              "<sqlite3.Cursor at 0x7f8616239fc0>"
            ]
          },
          "metadata": {},
          "execution_count": 18
        }
      ]
    },
    {
      "cell_type": "code",
      "source": [
        "c.execute('''insert into portfolio(userid)\n",
        "select distinct id from user''')"
      ],
      "metadata": {
        "colab": {
          "base_uri": "https://localhost:8080/"
        },
        "id": "dnnFT7LbyUwF",
        "outputId": "90201ece-ca94-45fc-89bf-bb2e1b8763f9"
      },
      "execution_count": 30,
      "outputs": [
        {
          "output_type": "execute_result",
          "data": {
            "text/plain": [
              "<sqlite3.Cursor at 0x7f8616239fc0>"
            ]
          },
          "metadata": {},
          "execution_count": 30
        }
      ]
    },
    {
      "cell_type": "code",
      "source": [
        "c.execute('''create table stockportfolio (\n",
        "  portfolioid integer not null,\n",
        "  stockid integer not null,\n",
        "  shares integer,\n",
        "  foreign key (portfolioid) references portfolio (id),\n",
        "  foreign key (stockid) references stocks(id)\n",
        ")''')"
      ],
      "metadata": {
        "colab": {
          "base_uri": "https://localhost:8080/"
        },
        "id": "x8ExL6bfagE0",
        "outputId": "82b44fb1-1132-4ac2-f42e-24c6f9fb09ee"
      },
      "execution_count": 55,
      "outputs": [
        {
          "output_type": "execute_result",
          "data": {
            "text/plain": [
              "<sqlite3.Cursor at 0x7f8616239fc0>"
            ]
          },
          "metadata": {},
          "execution_count": 55
        }
      ]
    },
    {
      "cell_type": "code",
      "source": [
        "c.execute('''insert into stockportfolio (portfolioid,stockid,shares)\n",
        "select distinct a.id,b.id,1 from portfolio as a cross join stock as b where tickersymbol in ('INFY','JKS')\n",
        "''')"
      ],
      "metadata": {
        "colab": {
          "base_uri": "https://localhost:8080/"
        },
        "id": "anuKfhu-zKmC",
        "outputId": "99c003b9-cbc7-460b-e222-df906790e691"
      },
      "execution_count": 56,
      "outputs": [
        {
          "output_type": "execute_result",
          "data": {
            "text/plain": [
              "<sqlite3.Cursor at 0x7f8616239fc0>"
            ]
          },
          "metadata": {},
          "execution_count": 56
        }
      ]
    },
    {
      "cell_type": "code",
      "source": [
        "c.execute('''select * from stockportfolio''')\n",
        "colnames=[x[0] for x in c.description]\n",
        "df = pd.DataFrame(c.fetchall(),columns=colnames)\n",
        "print(df)"
      ],
      "metadata": {
        "colab": {
          "base_uri": "https://localhost:8080/"
        },
        "id": "3NW5rANO55EU",
        "outputId": "9c95c789-da67-4605-97b2-a8c8d5cbdc22"
      },
      "execution_count": 57,
      "outputs": [
        {
          "output_type": "stream",
          "name": "stdout",
          "text": [
            "   portfolioid  stockid  shares\n",
            "0            1        1       1\n",
            "1            1       15       1\n"
          ]
        }
      ]
    }
  ]
}